{
 "cells": [
  {
   "cell_type": "code",
   "execution_count": 9,
   "metadata": {},
   "outputs": [],
   "source": [
    "#Bibliotecas Utilizadas\n",
    "from math import  *\n",
    "import matplotlib.pyplot as plt\n",
    "import numpy as np"
   ]
  },
  {
   "cell_type": "code",
   "execution_count": 10,
   "metadata": {},
   "outputs": [],
   "source": [
    "#Definição dos Parâmetros\n",
    "L_aleta = 0.2\n",
    "h = 20\n",
    "r = 0.12\n",
    "k_al = 240\n",
    "T_amb = 25 + 273\n",
    "T_base = 100 +273\n",
    "A_secao_transversal = pi*(r**2)\n",
    "P = 2*pi*r\n"
   ]
  },
  {
   "cell_type": "code",
   "execution_count": 11,
   "metadata": {},
   "outputs": [],
   "source": [
    "#Funções\n",
    "def temperatura_aleta_ponto_convecao(P,area_transversal,L,x,h,k,T_base,T_ambiente):\n",
    "    m =((h*P)/(k*area_transversal))**0.5\n",
    "    razao = (cosh(m*(L-x))+(h/(m*k))*sinh(m*(L-x)))/(cosh(m*L)+(h/(m*k))*sinh(m*L))\n",
    "    teta_b = T_base-T_ambiente\n",
    "    return razao*teta_b +T_ambiente\n",
    "\n",
    "\n",
    "def taxa_qa_convecao(P,area_transversal,L,h,k,T_base,T_ambiente):\n",
    "    m =((h*P)/(k*area_transversal))**0.5\n",
    "    teta_b = T_base-T_ambiente\n",
    "    M= teta_b*((h*P*k*area_transversal)**0.5)\n",
    "    taxa = M*(sinh(m*L)+(h/(m*k))*cosh(m*L))/(cosh(m*L)+(h/(m*k))*sinh(m*L))\n",
    "    return taxa\n",
    "\n",
    "def taxa_qa_infinito(P,area_transversal,h,k,T_base,T_ambiente):\n",
    "    teta_b = T_base-T_ambiente\n",
    "    M= teta_b*((h*P*k*area_transversal)**0.5)\n",
    "    return M"
   ]
  },
  {
   "attachments": {},
   "cell_type": "markdown",
   "metadata": {},
   "source": [
    "# Questão 1"
   ]
  },
  {
   "cell_type": "code",
   "execution_count": 12,
   "metadata": {},
   "outputs": [
    {
     "data": {
      "image/png": "[encoded data removed]",
      "text/plain": [
       "<Figure size 640x480 with 1 Axes>"
      ]
     },
     "metadata": {},
     "output_type": "display_data"
    }
   ],
   "source": [
    "#a)\n",
    "lista_temperaturas = []\n",
    "lista_intervalo = np.arange(0, 0.2, 0.001)\n",
    "\n",
    "for i in lista_intervalo:\n",
    "    lista_temperaturas.append(temperatura_aleta_ponto_convecao(P,A_secao_transversal,L_aleta,i,h,k_al,T_base,T_amb))\n",
    "\n",
    "\n",
    "\n",
    "plt.plot(lista_intervalo*1000,lista_temperaturas)\n",
    "plt.xlabel(\"Comprimento (mm)\")\n",
    "plt.ylabel(\"Temp K\")\n",
    "plt.show()\n"
   ]
  },
  {
   "cell_type": "code",
   "execution_count": 13,
   "metadata": {},
   "outputs": [
    {
     "name": "stdout",
     "output_type": "stream",
     "text": [
      "A taxa de transferência de calor é: 285.29\n"
     ]
    }
   ],
   "source": [
    "#b)\n",
    "qa = taxa_qa_convecao(P,A_secao_transversal,L_aleta,h,k_al,T_base,T_amb)\n",
    "print(\"A taxa de transferência de calor é: {:.2f}\".format(qa))"
   ]
  },
  {
   "cell_type": "code",
   "execution_count": 14,
   "metadata": {},
   "outputs": [
    {
     "name": "stdout",
     "output_type": "stream",
     "text": [
      "A eficiência é de 0.20\n"
     ]
    }
   ],
   "source": [
    "#c)\n",
    "A_superficie_aleta = A_secao_transversal+ 2*(pi*r*L_aleta)\n",
    "q_superficie = qa/(h*A_superficie_aleta*T_base)\n",
    "print(\"A eficiência é de {:.2f}\".format(q_superficie))"
   ]
  },
  {
   "cell_type": "code",
   "execution_count": 15,
   "metadata": {},
   "outputs": [
    {
     "name": "stdout",
     "output_type": "stream",
     "text": [
      "A efetividade é de 0.85\n"
     ]
    }
   ],
   "source": [
    "#d)\n",
    "e = qa/(h*A_secao_transversal*T_base)\n",
    "print(\"A efetividade é de {:.2f}\".format(e))"
   ]
  },
  {
   "cell_type": "code",
   "execution_count": 16,
   "metadata": {},
   "outputs": [
    {
     "name": "stdout",
     "output_type": "stream",
     "text": [
      "A taxa de transfêrencia para hipótese infinita é de 959.66\n"
     ]
    }
   ],
   "source": [
    "#e)\n",
    "qa_infinito = taxa_qa_infinito(P,A_secao_transversal,h,k_al,T_base,T_amb)\n",
    "print(\"A taxa de transfêrencia para hipótese infinita é de {:.2f}\".format(qa_infinito))"
   ]
  },
  {
   "attachments": {},
   "cell_type": "markdown",
   "metadata": {},
   "source": [
    "f)\n",
    "A taxa de transferência para a hipótese da aleta com comprimento infinito é maior que a de conveção para o comprimento utilizado,uma vez que possui uma maior superfície de contato com o ambiente"
   ]
  },
  {
   "attachments": {},
   "cell_type": "markdown",
   "metadata": {},
   "source": [
    "g)\n",
    "\n",
    "Como para aleta infinita uma das condições é que  $\\theta_{L}= 0$, ou seja $T_{b} - T_{amb} = 0$.\n",
    "\n",
    "Como $T_{b} = T_{amb}$, não há troca de calor entre a extremidade da aleta e o ambiente, podendo considerar-se uma troca adiábatica, ou seja podemos igualar a formula do cálculo da  taxa de transferência da aleta em caso de troca adiábatica e da aleta infinita para descobir o comprimento aproximado que transforma a taxa da hipótese infinita forneça uma medida precisa.\n",
    "\n",
    "Sendo assim:\n",
    "\n",
    "\n",
    "\n",
    "\\begin{align}\n",
    "q_{a} = M = M\\tanh(mL)\n",
    "\\end{align}\n",
    "\n",
    "\\begin{align}\n",
    "\\tanh(mL) = \\frac{q_{a}}{M}\n",
    "\\end{align}\n",
    "\n",
    "\\begin{align}\n",
    "mL = \\tanh(\\frac{q_{a}}{M})^{-1}\n",
    "\\end{align}\n",
    "\n",
    "\\begin{align}\n",
    "L = \\frac{(\\tanh(\\frac{q_{a}}{M})^{-1})}{m}\n",
    "\n",
    "\\end{align}\n",
    "\n",
    "\\begin{align}\n",
    "L = \\frac{(\\tanh(\\frac{M}{M})^{-1})}{m}\n",
    "\n",
    "\\end{align}\n",
    "\n",
    "\\begin{align}\n",
    "L = \\frac{(\\tanh(1)^{-1})}{m}\n",
    "\n",
    "\\end{align}\n",
    "\n",
    "Como $\\tanh(1)^{-1} = \\infty$, podemos aproximar para $\\tanh(0.999)^{-1}$"
   ]
  },
  {
   "cell_type": "code",
   "execution_count": 17,
   "metadata": {},
   "outputs": [
    {
     "name": "stdout",
     "output_type": "stream",
     "text": [
      "Taxa aleta infinita: 959.66, taxa por convecção 958.83.\n",
      "O comprimento para transformar a taxa da hipótese da aleta infinita em  uma medida precisa é  de 3.22 m.\n"
     ]
    }
   ],
   "source": [
    "#Implementando a matemática\n",
    "m =((h*P)/(k_al*A_secao_transversal))**0.5\n",
    "L = atanh(0.999)/m\n",
    "\n",
    "print(\"Taxa aleta infinita: {:.2f}, taxa por convecção {:.2f}.\".format(qa_infinito, taxa_qa_convecao(P,A_secao_transversal,L,h,k_al,T_base,T_amb)))\n",
    "print(\"O comprimento para transformar a taxa da hipótese da aleta infinita em  uma medida precisa é  de {:.2f} m.\".format(L))"
   ]
  },
  {
   "attachments": {},
   "cell_type": "markdown",
   "metadata": {},
   "source": [
    "# Questao2"
   ]
  },
  {
   "attachments": {},
   "cell_type": "markdown",
   "metadata": {},
   "source": [
    "a)\n",
    "\n",
    "Como foi dada a hipótese da aleta infinita, pode-se utilizar a seguinte relação:\n",
    "\n",
    "\\begin{align}\n",
    "\\frac{\\theta}{\\theta_{b}} = e^{-mx}\n",
    "\\end{align}\n",
    "\n",
    "Desse modo para determinar a condutividade térmica basta isola-la:\n",
    "\n",
    "\\begin{align}\n",
    "\\frac{\\theta}{\\theta_{b}} = e^{-mx}\n",
    "\\end{align}\n",
    "\n",
    "\\begin{align}\n",
    "ln(\\frac{\\theta}{\\theta_{b}}) = {-mx}\n",
    "\\end{align}\n",
    "\n",
    "\n",
    "\\begin{align}\n",
    "x = -\\frac{ln(\\frac{\\theta}{\\theta_{b}})}{m}\n",
    "\\end{align}\n",
    "\n",
    "\\begin{align}\n",
    "-\\frac{ln(\\frac{\\theta_{A}}{\\theta_{b}})}{m_{A}} = -\\frac{ln(\\frac{\\theta_{B}}{\\theta_{b}})}{m_{B}}\n",
    "\\end{align}\n",
    "\n",
    "\\begin{align}\n",
    "ln(\\frac{\\theta_{A}}{\\theta_{B}})m_{B} = ln(\\frac{\\theta_{B}}{\\theta_{b}})m_{A}\n",
    "\\end{align}\n",
    "\n",
    "Como $m = \\sqrt{\\frac{hP}{kA_{tr}}}$:\n",
    "\n",
    "\\begin{align}\n",
    "m_{B} = \\frac{ln(\\frac{\\theta_{B}}{\\theta_{b}})m_{A}}{ln(\\frac{\\theta_{A}}{\\theta_{B}})}\n",
    "\\end{align}\n",
    "\n",
    "\\begin{align}\n",
    "\\frac{hP}{k_{B}A_{tr}} = \\frac{hP}{k_{A}A_{tr}} (\\frac{ln(\\frac{\\theta_{B}}{\\theta_{b}})}{ln(\\frac{\\theta_{A}}{\\theta_{B}})})^2\n",
    "\\end{align}\n",
    "\n",
    "\n",
    "\\begin{align}\n",
    "\\frac{1}{k_{B}} = \\frac{1}{k_{A}}(\\frac{ln(\\frac{\\theta_{B}}{\\theta_{b}})}{ln(\\frac{\\theta_{A}}{\\theta_{B}})})^2\n",
    "\\end{align}\n",
    "\n",
    "\n",
    "\\begin{align}\n",
    "k_{B} = k_{A}(\\frac{ ln(\\frac{\\theta_{A}}{\\theta_{b}})}{ln(\\frac{\\theta_{B}}{\\theta_{b}})})^2\n",
    "\\end{align}\n"
   ]
  },
  {
   "cell_type": "code",
   "execution_count": 24,
   "metadata": {},
   "outputs": [],
   "source": [
    "#Definindo as variáveis\n",
    "ka = 240\n",
    "T_A = 75+273\n",
    "T_B = 60+273\n",
    "Tb = 100 + 273\n",
    "T_amb = 25 +273\n"
   ]
  },
  {
   "cell_type": "code",
   "execution_count": 37,
   "metadata": {},
   "outputs": [],
   "source": [
    "#Função\n",
    "def acha_condutividade(ka,T_A,T_B,Tb,T_amb):\n",
    "    teta_A = T_A - T_amb\n",
    "    teta_B = T_B - T_amb\n",
    "    teta_Base = Tb - T_amb\n",
    "    logs = (np.log(teta_A/teta_Base)/np.log(teta_B/teta_Base))**2\n",
    "    return ka*(logs)"
   ]
  },
  {
   "cell_type": "code",
   "execution_count": 38,
   "metadata": {},
   "outputs": [
    {
     "name": "stdout",
     "output_type": "stream",
     "text": [
      "A condutividade de kb é 67.93\n"
     ]
    }
   ],
   "source": [
    "print(\"A condutividade de kb é {:.2f}\".format(acha_condutividade(ka,T_A,T_B,Tb,T_amb)))"
   ]
  }
 ],
 "metadata": {
  "kernelspec": {
   "display_name": "Python 3",
   "language": "python",
   "name": "python3"
  },
  "language_info": {
   "codemirror_mode": {
    "name": "ipython",
    "version": 3
   },
   "file_extension": ".py",
   "mimetype": "text/x-python",
   "name": "python",
   "nbconvert_exporter": "python",
   "pygments_lexer": "ipython3",
   "version": "3.10.6"
  },
  "orig_nbformat": 4,
  "vscode": {
   "interpreter": {
    "hash": "916dbcbb3f70747c44a77c7bcd40155683ae19c65e1c03b4aa3499c5328201f1"
   }
  }
 },
 "nbformat": 4,
 "nbformat_minor": 2
}
